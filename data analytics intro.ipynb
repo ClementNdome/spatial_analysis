{
 "cells": [
  {
   "cell_type": "markdown",
   "id": "bd4e4b70",
   "metadata": {},
   "source": [
    "# G-DEV SESSION - GIS PROGRAMMING "
   ]
  },
  {
   "cell_type": "markdown",
   "id": "3b25953d",
   "metadata": {},
   "source": [
    "# GIS Python libraries"
   ]
  },
  {
   "cell_type": "markdown",
   "id": "981b26d3",
   "metadata": {},
   "source": [
    "Python is extremely useful language to learn in terms of GIS since many of the different GIS Software packages (such as ArcGIS, QGIS, PostGIS etc.) provide an interface to do analysis using Python scripting.\n",
    "\n",
    "Why should use Python for GIS\n",
    "\n",
    "        1.Everything is free\n",
    "        2.You will learn and understand much more deeply how different geoprocessing operations work\n",
    "        3.Python is highly efficient that is used for analyzing Big Data\n",
    "        4.Python is highly flexible, supports all data formats \n",
    "        5.Plug-in and chain different third-party softwares to build \n",
    "        e.g. a fancy web-GIS applications as you want (using e.g. GeoDjango with PostGIS as a back-end)\n"
   ]
  },
  {
   "cell_type": "markdown",
   "id": "5320d51c",
   "metadata": {},
   "source": [
    "Here are the GIS Python Libraries\n",
    "\n",
    "1 Arcpy\n",
    "\n",
    "If you use Esri ArcGIS, then you’re probably familiar with the ArcPy library. \n",
    "ArcPy is meant for geoprocessing operations. But it’s not only for spatial analysis, \n",
    "it’s also for data conversion, management and map production with Esri ArcGIS.\n",
    "\n",
    "2 Geopandas\n",
    "\n",
    "Geopandas is like pandas meet GIS. \n",
    "But instead of straight-forward tabular analysis, \n",
    "the geopandas library adds a geographic component. \n",
    "For overlay operations, geopandas uses capabilities of pandas,Fiona and Shapely, \n",
    "which are Python libraries of their own.\n",
    "\n",
    "3 GDAL/OGR\n",
    "\n",
    "The GDAL/OGR library is used for translating between GIS formats and extensions. \n",
    "QGIS, ArcGIS, ERDAS, ENVI and GRASS GIS and almost all GIS software use it for translation in some way. \n",
    "At this time, GDAL/OGR supports 97 vector and 162 raster drivers.\n",
    "\n",
    "\n",
    "4 RSGISLib\n",
    "\n",
    "The RSGISLib library is a set of remote sensing tools for raster processing and analysis. \n",
    "To name a few, it classifies, filters and performs statistics on imagery.\n",
    "\n",
    "5 PyProj\n",
    "\n",
    "The main purpose of the PyProj library is how it works with spatial referencing systems. \n",
    "It can project and transform coordinates with a range of geographic reference systems. \n",
    "PyProj can also perform geodetic calculations and distances for any given datum.\n",
    "\n",
    "6.Shapely\n",
    "\n",
    "Shapely is Python package for manipulation and analysis of planar geometric objects. \n",
    "It is based on the widely deployed GEOS (the engine of PostGIS) and JTS (from which GEOS is ported) libraries.\n",
    "Shapely is not concerned with data formats or coordinate systems, but can be readily integrated with packages that are.\n",
    "\n",
    "7.Fiona\n",
    "\n",
    "Reading and writing spatial data (alternative for geopandas). Fiona is designed to be simple and dependable. \n",
    "It focuses on reading and writing data in standard Python IO style and relies upon familiar Python types and \n",
    "protocols such as files, dictionaries, mappings, and iterators instead of classes specific to OGR.\n",
    "\n",
    "8.Pysal\n",
    "\n",
    "PySAL, the Python spatial analysis library, is an open source cross-platform library for \n",
    "geospatial data science with an emphasis on geospatial vector data written in Python. \n",
    "It supports the development of high level applications for spatial analysis, such as\n",
    "\n",
    "    Detection of spatial clusters, hot-spots, and outliers\n",
    "    Construction of graphs from spatial data\n",
    "    Spatial regression and statistical modeling on geographically embedded networks\n",
    "    Spatial econometrics\n",
    "    Exploratory spatio-temporal data analysis\n",
    "\n",
    "\n",
    "9.Geopy\n",
    "\n",
    "Geopy makes it easy for Python developers to locate the coordinates of addresses, \n",
    "cities, countries, and landmarks across the globe using third-party geocoders and other data sources.\n",
    "\n",
    "10.GeoViews\n",
    "\n",
    "GeoViews is a Python library that makes it easy to explore and visualize any data that \n",
    "includes geographic locations. It has particularly powerful support for multidimensional meteorological \n",
    "and oceanographic datasets, such as those used in weather, climate, and remote sensing research, \n",
    "but is useful for almost anything that you would want to plot on a map\n",
    "\n",
    "\n",
    "11.Cartopy\n",
    "\n",
    "Cartopy is a Python package designed to make drawing maps for data analysis and visualisation easy.\n",
    "\n",
    "It features:\n",
    "\n",
    "    Object oriented projection definitions\n",
    "    Point, line, polygon and image transformations between projections\n",
    "    Integration to expose advanced mapping in Matplotlib with a simple and intuitive interface\n",
    "    powerful vector data handling by integrating shapefile reading with Shapely capabilities\n",
    "\n",
    "\n",
    "12.Rtree\n",
    "\n",
    "Rtree is a ctypes Python wrapper of libspatialindex that provides a number of advanced spatial indexing \n",
    "features for the spatially curious Python user. These features include:\n",
    "\n",
    "    Nearest neighbor search\n",
    "    Intersection search\n",
    "    Multi-dimensional indexes\n",
    "    Clustered indexes\n",
    "    Bulk loading\n",
    "\n",
    "\n",
    "13 Rasterio\n",
    "\n",
    "Rasterio reads and writes geospatial raster data and perfect for Clean and fast and geospatial rasterI/O for Python.\n",
    "Geographic information systems use GeoTIFF and other formats to organize and store gridded, or raster, \n",
    "datasets. Rasterio reads and writes these formats and provides a Python API based on N-D arrays.\n",
    "\n",
    "\n",
    "Python Libraries for Data Science\n",
    "\n",
    "1 NumPy\n",
    "\n",
    "Numerical Python (NumPy library) takes your attribute table and puts it in a structured array. \n",
    "Once it’s in a structured array, it’s much faster for any scientific computing. \n",
    "One of the best things about it is how you can work with other Python libraries like SciPy \n",
    "for heavy statistical operations.\n",
    "\n",
    "2 Pandas\n",
    "\n",
    "The Pandas library is immensely popular for data wrangling. It’s not only for statisticians. \n",
    "But it’s incredibly useful in GIS too. Computational performance is key for pandas. \n",
    "The success of Pandas lies in its data frame. Data frames are optimized to work with big data. \n",
    "They’re optimized to such a point that it’s something that Microsoft Excel wouldn’t even be able to handle.\n",
    "\n",
    "3 Matplotlib\n",
    "\n",
    "When you’re working with thousands of data points, sometimes the best thing to do is plot it all out.\n",
    "Enter matplotlib. Statisticians use the matplotlib library for visual display. Matplotlib does it all. \n",
    "It plots graphs, charts and maps. Even with big data, it’s decent at crunching numbers.\n",
    "\n",
    "4 Scikit\n",
    "\n",
    "Lately, machine learning has been all the buzz. \n",
    "And with good reason. Scikit is a Python library that enables machine learning. \n",
    "It’s built in NumPy, SciPy and matplotlib. So, if you want to do any data mining, \n",
    "classification or ML prediction, the Scikit library is a decent choice."
   ]
  },
  {
   "cell_type": "markdown",
   "id": "f4094c78",
   "metadata": {},
   "source": [
    "# Are you ready for the session!!!!\n",
    "Let's start now"
   ]
  },
  {
   "cell_type": "code",
   "execution_count": null,
   "id": "cff28be2",
   "metadata": {},
   "outputs": [],
   "source": [
    "libraries that we will use :\n",
    "    1.Geopandas\n",
    "    2.Matplotlib\n",
    "    3.Pathlib\n",
    "    4.mapclassify\n",
    "    5.Numpy\n",
    "    6.Pandas"
   ]
  },
  {
   "cell_type": "code",
   "execution_count": 90,
   "id": "d789387f",
   "metadata": {},
   "outputs": [
    {
     "name": "stdout",
     "output_type": "stream",
     "text": [
      " counstituencies.cpg   counstituencies.shx   county.shp\r\n",
      " counstituencies.dbf   county.cpg            county.shx\r\n",
      " counstituencies.prj   county.dbf           'G-Dev 17th November session.ipynb'\r\n",
      " counstituencies.shp   county.prj\r\n"
     ]
    }
   ],
   "source": [
    "from pathlib import Path\n",
    "DATA_DIR = Path('../G-DEV')\n",
    "%ls {DATA_DIR}"
   ]
  },
  {
   "cell_type": "code",
   "execution_count": 117,
   "id": "07e5c12a",
   "metadata": {},
   "outputs": [],
   "source": [
    "# python libraries we need for our session\n",
    "\n",
    "# Import necessary modules\n",
    "\n",
    "import geopandas as gpd\n",
    "import matplotlib.pyplot as plt"
   ]
  },
  {
   "cell_type": "markdown",
   "id": "9ce1e647",
   "metadata": {},
   "source": [
    "GeoPandas is an open source project to add support for geographic data to pandas objects. \n",
    "It currently implements GeoSeries and GeoDataFrame types which are subclasses of pandas.\n",
    "Series and pandas.DataFrame respectively. \n",
    "GeoPandas objects can act on shapely geometry objects and perform geometric operations."
   ]
  },
  {
   "cell_type": "code",
   "execution_count": 118,
   "id": "fc4e6f26",
   "metadata": {},
   "outputs": [],
   "source": [
    "# lets import our data\n",
    "county = 'county.shp'\n",
    "constituencies = 'counstituencies.shp'"
   ]
  },
  {
   "cell_type": "markdown",
   "id": "01803807",
   "metadata": {},
   "source": [
    "This is our data from the directory"
   ]
  },
  {
   "cell_type": "code",
   "execution_count": 119,
   "id": "2b27de1e",
   "metadata": {},
   "outputs": [],
   "source": [
    "# Read file using gpd.read_file()\n",
    "\n",
    "county = gpd.read_file(county)\n",
    "\n",
    "constituencies = gpd.read_file(constituencies)\n"
   ]
  },
  {
   "cell_type": "markdown",
   "id": "d708f742",
   "metadata": {},
   "source": [
    "# 1. ANAlYSING DATA"
   ]
  },
  {
   "cell_type": "markdown",
   "id": "8def113c",
   "metadata": {},
   "source": [
    "1.1 Let’s see what datatype is our data variable"
   ]
  },
  {
   "cell_type": "code",
   "execution_count": 120,
   "id": "f6fd00a6",
   "metadata": {},
   "outputs": [],
   "source": [
    "type(county)"
   ]
  },
  {
   "cell_type": "code",
   "execution_count": 121,
   "id": "ad385034",
   "metadata": {},
   "outputs": [],
   "source": [
    "type(constituencies)"
   ]
  },
  {
   "cell_type": "markdown",
   "id": "502a4c07",
   "metadata": {},
   "source": [
    "GeoDataFrame extends the functionalities of pandas.\n",
    "DataFrame in a way that it is possible to use and handle spatial data within pandas (hence the name geopandas). \n",
    "GeoDataFrame have some special features and functions that are useful in GIS."
   ]
  },
  {
   "cell_type": "markdown",
   "id": "ea245901",
   "metadata": {},
   "source": [
    "1.2 Let’s take a look at our data and print the first 5 rows using the"
   ]
  },
  {
   "cell_type": "code",
   "execution_count": 122,
   "id": "0413cbeb",
   "metadata": {},
   "outputs": [],
   "source": [
    "county.head()"
   ]
  },
  {
   "cell_type": "markdown",
   "id": "76229c7e",
   "metadata": {},
   "source": [
    "1.3 We can select how many rows to be displayed"
   ]
  },
  {
   "cell_type": "markdown",
   "id": "f87584b7",
   "metadata": {},
   "source": [
    "option 1\n",
    "\n",
    "    county.head(20)\n",
    "    \n",
    "    general formula >>>>> county.head(n) where n is the number of rows"
   ]
  },
  {
   "cell_type": "markdown",
   "id": "61be4e4b",
   "metadata": {},
   "source": [
    "option 2\n",
    "\n",
    "    county[0:10]"
   ]
  },
  {
   "cell_type": "markdown",
   "id": "cd697923",
   "metadata": {},
   "source": [
    "1.4 Let’s take a look at our data and print the last 5 rows using the"
   ]
  },
  {
   "cell_type": "code",
   "execution_count": 123,
   "id": "1a39d4ad",
   "metadata": {},
   "outputs": [],
   "source": [
    "county.tail()"
   ]
  },
  {
   "cell_type": "markdown",
   "id": "86689f3c",
   "metadata": {},
   "source": [
    "1.5 Printing the coordinate reference system"
   ]
  },
  {
   "cell_type": "code",
   "execution_count": 124,
   "id": "05b1fefd",
   "metadata": {},
   "outputs": [],
   "source": [
    "county.crs"
   ]
  },
  {
   "cell_type": "markdown",
   "id": "7298e215",
   "metadata": {},
   "source": [
    "1.6 DIsplay the columns of our data"
   ]
  },
  {
   "cell_type": "code",
   "execution_count": 125,
   "id": "6825e283",
   "metadata": {},
   "outputs": [],
   "source": [
    "county.columns"
   ]
  },
  {
   "cell_type": "markdown",
   "id": "b2568dd9",
   "metadata": {},
   "source": [
    "1.7 Select certain columns in your data"
   ]
  },
  {
   "cell_type": "code",
   "execution_count": 126,
   "id": "7557782f",
   "metadata": {},
   "outputs": [],
   "source": [
    "county_column = county[['COUNTY',county.columns[6],county.columns[7]]]\n",
    "county_column.head()"
   ]
  },
  {
   "cell_type": "markdown",
   "id": "b7f57c9f",
   "metadata": {},
   "source": [
    "1.7.1  Option 2"
   ]
  },
  {
   "cell_type": "code",
   "execution_count": 127,
   "id": "5cc1a51a",
   "metadata": {},
   "outputs": [],
   "source": [
    "county_column2 = county[['COUNTY','Shape_Leng','Shape_Area']]\n",
    "county_column2.head()"
   ]
  },
  {
   "cell_type": "markdown",
   "id": "40aa69bd",
   "metadata": {},
   "source": [
    "1.7.2  Option 3"
   ]
  },
  {
   "cell_type": "code",
   "execution_count": 128,
   "id": "2aef9ab4",
   "metadata": {},
   "outputs": [],
   "source": [
    "county_column3 = county[county.columns[5:8]]\n",
    "county_column3.head()"
   ]
  },
  {
   "cell_type": "markdown",
   "id": "28eb60c2",
   "metadata": {},
   "source": [
    "1.8 Change the columns name"
   ]
  },
  {
   "cell_type": "code",
   "execution_count": 129,
   "id": "d3b46849",
   "metadata": {},
   "outputs": [],
   "source": [
    "# lets use the county_column data\n",
    "\n",
    "county_column.columns"
   ]
  },
  {
   "cell_type": "code",
   "execution_count": 130,
   "id": "226026f6",
   "metadata": {},
   "outputs": [],
   "source": [
    "county_column.columns=('County','Length','Area')\n",
    "county_column.head()"
   ]
  },
  {
   "cell_type": "markdown",
   "id": "1e2ad4d6",
   "metadata": {},
   "source": [
    "1.9 Perform statisticals on the county_column data"
   ]
  },
  {
   "cell_type": "markdown",
   "id": "87a7d06d",
   "metadata": {},
   "source": [
    "1.9.1 Total sum of length and area"
   ]
  },
  {
   "cell_type": "code",
   "execution_count": 131,
   "id": "4a8ba7c2",
   "metadata": {},
   "outputs": [],
   "source": [
    "# Length\n",
    "\n",
    "county_length = county_column[['Length']].sum()\n",
    "county_length = round(county_length)\n",
    "print('The total length of counties in Kenya is:',county_length)"
   ]
  },
  {
   "cell_type": "code",
   "execution_count": 132,
   "id": "1e9b04bb",
   "metadata": {},
   "outputs": [],
   "source": [
    "# Area\n",
    "\n",
    "county_area = county_column[['Area']].sum()\n",
    "county_area = round(county_area)\n",
    "print('The total area of counties in Kenya is:',county_area)"
   ]
  },
  {
   "cell_type": "markdown",
   "id": "a748b8b7",
   "metadata": {},
   "source": [
    "1.9.2 Obtain all statistical data for both length and area in county data"
   ]
  },
  {
   "cell_type": "code",
   "execution_count": 133,
   "id": "02dedd82",
   "metadata": {},
   "outputs": [],
   "source": [
    "county_column.describe()"
   ]
  },
  {
   "cell_type": "markdown",
   "id": "25305bb4",
   "metadata": {},
   "source": [
    "1.9.3 Ascending order of lenght and area"
   ]
  },
  {
   "cell_type": "code",
   "execution_count": 134,
   "id": "c13c02bb",
   "metadata": {},
   "outputs": [],
   "source": [
    "# length\n",
    "\n",
    "county_order = county_column.sort_values(by='Length',ascending=False)\n",
    "county_order.head(10)"
   ]
  },
  {
   "cell_type": "code",
   "execution_count": 135,
   "id": "43286d65",
   "metadata": {},
   "outputs": [],
   "source": [
    "# area\n",
    "\n",
    "county_orders = county_column.sort_values(by='Area',ascending=False)\n",
    "county_orders.head(10)"
   ]
  },
  {
   "cell_type": "markdown",
   "id": "79f4031a",
   "metadata": {},
   "source": [
    "1.10 Total rows in our data"
   ]
  },
  {
   "cell_type": "code",
   "execution_count": 136,
   "id": "42355214",
   "metadata": {},
   "outputs": [],
   "source": [
    "len(county_column)"
   ]
  },
  {
   "cell_type": "markdown",
   "id": "d1604ae7",
   "metadata": {},
   "source": [
    "1.11 Pandas "
   ]
  },
  {
   "cell_type": "code",
   "execution_count": null,
   "id": "7e3c5782",
   "metadata": {},
   "outputs": [],
   "source": [
    "import pandas as pd\n",
    "\n",
    "county_pd = pd.DataFrame(county)"
   ]
  },
  {
   "cell_type": "code",
   "execution_count": null,
   "id": "85770479",
   "metadata": {},
   "outputs": [],
   "source": [
    "# bar plot\n",
    "\n",
    "from matplotlib import cm\n",
    "\n",
    "color = cm.inferno_r(np.linspace(.4, .8, 30))\n",
    "\n",
    "county_pd = county_pd.sort_values(by='PERIMETER',ascending=True)\n",
    "\n",
    "county_pd.plot(figsize=(10,30),color=color,kind='barh', x=\"COUNTY\", y=\"PERIMETER\")\n",
    "\n",
    "\n",
    "# for area\n",
    "\n",
    "# county_pd = county_pd.sort_values(by='AREA',ascending=True)\n",
    "\n",
    "# county_pd.plot(figsize=(10,30),color=color,kind='barh', x=\"COUNTY\", y=\"AREA\")\n"
   ]
  },
  {
   "cell_type": "code",
   "execution_count": null,
   "id": "143329ff",
   "metadata": {},
   "outputs": [],
   "source": [
    "# plot scatter plot\n",
    "\n",
    "county_pd.plot(figsize=(10,7),kind='scatter', x=\"AREA\", y=\"PERIMETER\")"
   ]
  },
  {
   "cell_type": "markdown",
   "id": "a62e2f43",
   "metadata": {},
   "source": [
    "# 2 VISUALIZATION OF DATA"
   ]
  },
  {
   "cell_type": "markdown",
   "id": "1b24cba6",
   "metadata": {},
   "source": [
    "2.1 visualize data"
   ]
  },
  {
   "cell_type": "code",
   "execution_count": 137,
   "id": "0dd3c151",
   "metadata": {},
   "outputs": [],
   "source": [
    "# county\n",
    "\n",
    "county.plot()"
   ]
  },
  {
   "cell_type": "markdown",
   "id": "4fb11624",
   "metadata": {},
   "source": [
    "2.1.1 Resizing"
   ]
  },
  {
   "cell_type": "code",
   "execution_count": 138,
   "id": "fd4d4a50",
   "metadata": {},
   "outputs": [],
   "source": [
    "county.plot(figsize=(10,10))"
   ]
  },
  {
   "cell_type": "markdown",
   "id": "4ccca187",
   "metadata": {},
   "source": [
    "2.1.2 Applying no brush (The one used in QGIS)"
   ]
  },
  {
   "cell_type": "code",
   "execution_count": 139,
   "id": "6461a878",
   "metadata": {},
   "outputs": [],
   "source": [
    "county.plot(figsize=(10,10),facecolor='none')\n",
    "\n",
    "# one can use any color \"red\",\"green\"\n",
    "\n",
    "# e.g\n",
    "\n",
    "# county.plot(figsize=(10,20),color = 'blue',edgecolor='black')"
   ]
  },
  {
   "cell_type": "markdown",
   "id": "a1ea8f11",
   "metadata": {},
   "source": [
    "2.2 Applying color ramp"
   ]
  },
  {
   "cell_type": "code",
   "execution_count": 140,
   "id": "68a41657",
   "metadata": {},
   "outputs": [],
   "source": [
    "county.plot(figsize=(10,20),cmap = 'Accent')"
   ]
  },
  {
   "cell_type": "markdown",
   "id": "eb9aa323",
   "metadata": {},
   "source": [
    "supported values are \n",
    "\n",
    "    'Accent', 'Accent_r', 'Blues', 'Blues_r', 'BrBG', 'BrBG_r', 'BuGn', \n",
    "    'BuGn_r', 'BuPu', 'BuPu_r', 'CMRmap', 'CMRmap_r', 'Dark2', 'Dark2_r', \n",
    "    'GnBu', 'GnBu_r', 'Greens', 'Greens_r', 'Greys', 'Greys_r', 'OrRd', \n",
    "    'OrRd_r', 'Oranges', 'Oranges_r', 'PRGn', 'PRGn_r', 'Paired', 'Paired_r', \n",
    "    'Pastel1', 'Pastel1_r', 'Pastel2', 'Pastel2_r', 'PiYG', 'PiYG_r', 'PuBu', \n",
    "    'PuBuGn', 'PuBuGn_r', 'PuBu_r', 'PuOr', 'PuOr_r', 'PuRd', 'PuRd_r', 'Purples', \n",
    "    'Purples_r', 'RdBu', 'RdBu_r', 'RdGy', 'RdGy_r', 'RdPu', 'RdPu_r', 'RdYlBu',\n",
    "    'RdYlBu_r', 'RdYlGn', 'RdYlGn_r', 'Reds', 'Reds_r', 'Set1', 'Set1_r', 'Set2',\n",
    "    'Set2_r', 'Set3', 'Set3_r', 'Spectral', 'Spectral_r', 'Wistia', 'Wistia_r',\n",
    "    'YlGn', 'YlGnBu', 'YlGnBu_r', 'YlGn_r', 'YlOrBr', 'YlOrBr_r', 'YlOrRd',\n",
    "    'YlOrRd_r', 'afmhot', 'afmhot_r', 'autumn', 'autumn_r', 'binary', 'binary_r',\n",
    "    'bone', 'bone_r', 'brg', 'brg_r', 'bwr', 'bwr_r', 'cividis', 'cividis_r', 'cool',\n",
    "    'cool_r', 'coolwarm', 'coolwarm_r', 'copper', 'copper_r', 'cubehelix', 'cubehelix_r', \n",
    "    'flag', 'flag_r', 'gist_earth', 'gist_earth_r', 'gist_gray', 'gist_gray_r', \n",
    "    'gist_heat', 'gist_heat_r', 'gist_ncar', 'gist_ncar_r', 'gist_rainbow', 'gist_rainbow_r',\n",
    "    'gist_stern', 'gist_stern_r', 'gist_yarg', 'gist_yarg_r', 'gnuplot', 'gnuplot2', \n",
    "    'gnuplot2_r', 'gnuplot_r', 'gray', 'gray_r', 'hot', 'hot_r', 'hsv', 'hsv_r', \n",
    "    'inferno', 'inferno_r', 'jet', 'jet_r', 'magma', 'magma_r', 'nipy_spectral', \n",
    "    'nipy_spectral_r', 'ocean', 'ocean_r', 'pink', 'pink_r', 'plasma', 'plasma_r', \n",
    "    'prism', 'prism_r', 'rainbow', 'rainbow_r', 'seismic', 'seismic_r', 'spring', \n",
    "    'spring_r', 'summer', 'summer_r', 'tab10', 'tab10_r', 'tab20', 'tab20_r', \n",
    "    'tab20b', 'tab20b_r', 'tab20c', 'tab20c_r', 'terrain', 'terrain_r', 'turbo', \n",
    "    'turbo_r', 'twilight', 'twilight_r', 'twilight_shifted', 'twilight_shifted_r', \n",
    "    'viridis', 'viridis_r', 'winter', 'winter_r'"
   ]
  },
  {
   "cell_type": "markdown",
   "id": "24c3f264",
   "metadata": {},
   "source": [
    "2.3 Visualize boundary"
   ]
  },
  {
   "cell_type": "code",
   "execution_count": null,
   "id": "83ce8114",
   "metadata": {},
   "outputs": [],
   "source": [
    "county.boundary.plot(figsize=(10,20),color='black');"
   ]
  },
  {
   "cell_type": "markdown",
   "id": "dcde5d96",
   "metadata": {},
   "source": [
    "To make the color transparent for when you just want to show the boundary, \n",
    "you have two options. One option is to do world.plot(facecolor=\"none\", edgecolor=\"black\"). \n",
    "However, this can cause a lot of confusion because \"none\" and None are different in the context \n",
    "of using facecolor and they do opposite things. None does the “default behavior” based on matplotlib, \n",
    "and if you use it for facecolor, it actually adds a color. The second option is to \n",
    "use world.boundary.plot(). This option is more explicit and clear.\n",
    "    "
   ]
  },
  {
   "cell_type": "markdown",
   "id": "34b53dff",
   "metadata": {},
   "source": [
    "2.4 Choropleth Maps"
   ]
  },
  {
   "cell_type": "markdown",
   "id": "c9715cfc",
   "metadata": {},
   "source": [
    "geopandas makes it easy to create Choropleth maps (maps where the color of each shape is \n",
    "                                                   based on the value of an associated variable). \n",
    "Simply use the plot command with the column argument set to the column whose values you want used to \n",
    "assign colors."
   ]
  },
  {
   "cell_type": "code",
   "execution_count": null,
   "id": "6f9f6784",
   "metadata": {},
   "outputs": [],
   "source": [
    "# using area column\n",
    "\n",
    "county.plot(column='AREA');"
   ]
  },
  {
   "cell_type": "markdown",
   "id": "1bf0015f",
   "metadata": {},
   "source": [
    "2.5 Creating a legend\n"
   ]
  },
  {
   "cell_type": "markdown",
   "id": "5f711640",
   "metadata": {},
   "source": [
    "2.5.1 When plotting a map, one can enable a legend using the legend argument"
   ]
  },
  {
   "cell_type": "code",
   "execution_count": null,
   "id": "e41df411",
   "metadata": {},
   "outputs": [],
   "source": [
    "fig, ax = plt.subplots()\n",
    "county.plot(column='PERIMETER', ax=ax, legend=True)"
   ]
  },
  {
   "cell_type": "markdown",
   "id": "2d5a1ea9",
   "metadata": {},
   "source": [
    "2.5.2 However, the default appearance of the legend and plot axes may not be desirable. One can define the plot axes (with ax) and the legend axes (with cax) and then pass those in to the plot() call. The following example uses mpl_toolkits to vertically align the plot axes and the legend axes:"
   ]
  },
  {
   "cell_type": "code",
   "execution_count": null,
   "id": "a2f0206d",
   "metadata": {},
   "outputs": [],
   "source": [
    "from mpl_toolkits.axes_grid1 import make_axes_locatable\n",
    "\n",
    "fig, ax = plt.subplots(1, 1)\n",
    "\n",
    "divider = make_axes_locatable(ax)\n",
    "\n",
    "cax = divider.append_axes(\"right\", size=\"5%\", pad=0.1)\n",
    "\n",
    "county.plot(column='PERIMETER', ax=ax, legend=True, cax=cax)"
   ]
  },
  {
   "cell_type": "markdown",
   "id": "59b41551",
   "metadata": {},
   "source": [
    "2.5.3 And the following example plots the color bar below the map and adds its label using legend_kwds"
   ]
  },
  {
   "cell_type": "code",
   "execution_count": null,
   "id": "a865a449",
   "metadata": {},
   "outputs": [],
   "source": [
    "fig, ax = plt.subplots(1,1)\n",
    "\n",
    "county.plot(column='AREA',\n",
    "           ax=ax,legend=True,\n",
    "           legend_kwds={'label': \"Area by County\",'orientation': \"horizontal\"})"
   ]
  },
  {
   "cell_type": "markdown",
   "id": "fe4cfd82",
   "metadata": {},
   "source": [
    "2.5.4 Map classification"
   ]
  },
  {
   "cell_type": "markdown",
   "id": "4d2e0018",
   "metadata": {},
   "source": [
    "The way color maps are scaled can also be manipulated with the scheme option (if you have mapclassify installed, which can be accomplished via conda install -c conda-forge mapclassify). \n",
    "The scheme option can be set to any scheme provided by mapclassify\n",
    "\n",
    "e.g. ‘box_plot’, ‘equal_interval’, ‘fisher_jenks’, ‘fisher_jenks_sampled’,‘headtail_breaks’,‘jenks_caspall’, ‘jenks_caspall_forced’, ‘jenks_caspall_sampled’, ‘max_p_classifier’, ‘maximum_breaks’, ‘natural_breaks’, ‘quantiles’, ‘percentiles’, ‘std_mean’ or ‘user_defined’.\n",
    "            \n",
    "Arguments can be passed in classification_kwds dict. See the mapclassify documentation for further details about these map classification schemes"
   ]
  },
  {
   "cell_type": "code",
   "execution_count": null,
   "id": "746ec3c7",
   "metadata": {},
   "outputs": [],
   "source": [
    "county.plot(column='AREA', cmap='OrRd', scheme='quantiles');"
   ]
  },
  {
   "cell_type": "markdown",
   "id": "a1a453a1",
   "metadata": {},
   "source": [
    "2.5.5 Missing data"
   ]
  },
  {
   "cell_type": "markdown",
   "id": "60f83a5e",
   "metadata": {},
   "source": [
    "In some cases one may want to plot data which contains missing values - for some features one simply does not know the value. Geopandas (from the version 0.7) by defaults ignores such features."
   ]
  },
  {
   "cell_type": "code",
   "execution_count": null,
   "id": "ed21786e",
   "metadata": {},
   "outputs": [],
   "source": [
    "import numpy as np\n",
    "\n",
    "county.loc[np.random.choice(county.index, 40), 'AREA'] = np.nan\n",
    "\n",
    "county.plot(column='AREA');"
   ]
  },
  {
   "cell_type": "markdown",
   "id": "b0ddaff7",
   "metadata": {},
   "source": [
    "2.5.6 Display missing data"
   ]
  },
  {
   "cell_type": "markdown",
   "id": "19d00865",
   "metadata": {},
   "source": [
    "passing missing_kwds one can specify the style and label of features containing None or NaN"
   ]
  },
  {
   "cell_type": "code",
   "execution_count": null,
   "id": "c23d21cc",
   "metadata": {},
   "outputs": [],
   "source": [
    "county.plot(column='AREA', missing_kwds={'color': 'lightgrey'});"
   ]
  },
  {
   "cell_type": "code",
   "execution_count": null,
   "id": "ad28b11c",
   "metadata": {},
   "outputs": [],
   "source": [
    "county.plot(\n",
    "        column=\"AREA\",\n",
    "        legend=True,\n",
    "        scheme=\"quantiles\",\n",
    "        figsize=(15, 10),\n",
    "        missing_kwds={\n",
    "            \"color\": \"lightgrey\",\n",
    "            \"edgecolor\": \"red\",\n",
    "            \"hatch\": \"///\",\n",
    "            \"label\": \"Missing values\",\n",
    "        },\n",
    ");"
   ]
  },
  {
   "cell_type": "markdown",
   "id": "39229c45",
   "metadata": {},
   "source": [
    "# 3. GIS ANALYSIS\n"
   ]
  },
  {
   "cell_type": "markdown",
   "id": "c3206acb",
   "metadata": {},
   "source": [
    "3.1 Clipping"
   ]
  },
  {
   "cell_type": "code",
   "execution_count": 141,
   "id": "e7200a5d",
   "metadata": {},
   "outputs": [],
   "source": [
    "county.head(2)"
   ]
  },
  {
   "cell_type": "code",
   "execution_count": 142,
   "id": "772532c2",
   "metadata": {},
   "outputs": [],
   "source": [
    "#  we shall clip Nyeri county\n",
    "\n",
    "nyeri = county[county.COUNTY=='Nyeri']\n",
    "nyeri"
   ]
  },
  {
   "cell_type": "code",
   "execution_count": 143,
   "id": "87417618",
   "metadata": {},
   "outputs": [],
   "source": [
    "# plot\n",
    "nyeri.plot(figsize=(10,17),facecolor=\"none\")"
   ]
  },
  {
   "cell_type": "markdown",
   "id": "0a23b242",
   "metadata": {},
   "source": [
    "3.2 Subsetting with constituecy data"
   ]
  },
  {
   "cell_type": "code",
   "execution_count": 144,
   "id": "cb3c34e9",
   "metadata": {},
   "outputs": [],
   "source": [
    "constituencies.head(2)"
   ]
  },
  {
   "cell_type": "code",
   "execution_count": 145,
   "id": "aa4d7fa5",
   "metadata": {},
   "outputs": [],
   "source": [
    "constituencies.columns"
   ]
  },
  {
   "cell_type": "code",
   "execution_count": 146,
   "id": "f5b92307",
   "metadata": {},
   "outputs": [],
   "source": [
    "#  first we select nyeri county from column 'COUNTY_NAM'\n",
    "\n",
    "nyeri_con = constituencies[constituencies.COUNTY_NAM=='NYERI'].plot(figsize=(10,10),facecolor='none')"
   ]
  },
  {
   "cell_type": "code",
   "execution_count": null,
   "id": "72ebcef1",
   "metadata": {},
   "outputs": [],
   "source": [
    "ax = nyeri.plot(facecolor='none');\n",
    "\n",
    "nyeri_con.plot(figsize=(10,10),ax=ax,facecolor='none', alpha=0.5);"
   ]
  },
  {
   "cell_type": "markdown",
   "id": "14b8e683",
   "metadata": {},
   "source": [
    "3.3 Saving data in differnt formats"
   ]
  },
  {
   "cell_type": "code",
   "execution_count": null,
   "id": "90b9e4f2",
   "metadata": {},
   "outputs": [],
   "source": [
    "# Writing to Shapefile\n",
    "\n",
    "nyeri_con.to_file(\"nyeri_con.shp\")"
   ]
  },
  {
   "cell_type": "code",
   "execution_count": null,
   "id": "b337cb61",
   "metadata": {},
   "outputs": [],
   "source": [
    "# Writing to GeoJSON\n",
    "\n",
    "nyeri_con.to_file(\"nyeri_con.geojson\", driver='GeoJSON')"
   ]
  },
  {
   "cell_type": "code",
   "execution_count": null,
   "id": "713e6f05",
   "metadata": {},
   "outputs": [],
   "source": [
    "# Writing to GeoPackage\n",
    "\n",
    "nyeri_con.to_file(\"constituency.gpkg\", layer='constituency', driver=\"GPKG\")\n",
    "\n",
    "cities_gdf.to_file(\"county.gpkg\", layer='county', driver=\"GPKG\")"
   ]
  },
  {
   "cell_type": "markdown",
   "id": "df1d2112",
   "metadata": {},
   "source": [
    "# QUESTIONS!!!"
   ]
  },
  {
   "cell_type": "markdown",
   "id": "e7d0a998",
   "metadata": {},
   "source": [
    "# THANK YOU ALL VIVA G-DEV"
   ]
  },
  {
   "cell_type": "markdown",
   "id": "b5e89582",
   "metadata": {},
   "source": [
    "“The best way to predict the future is to create it.\" - Abraham Lincoln"
   ]
  }
 ],
 "metadata": {
  "kernelspec": {
   "display_name": "Python 3 (ipykernel)",
   "language": "python",
   "name": "python3"
  },
  "language_info": {
   "codemirror_mode": {
    "name": "ipython",
    "version": 3
   },
   "file_extension": ".py",
   "mimetype": "text/x-python",
   "name": "python",
   "nbconvert_exporter": "python",
   "pygments_lexer": "ipython3",
   "version": "3.8.8"
  }
 },
 "nbformat": 4,
 "nbformat_minor": 5
}
